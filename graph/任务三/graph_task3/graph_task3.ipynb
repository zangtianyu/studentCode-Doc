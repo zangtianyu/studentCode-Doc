{
 "cells": [
  {
   "cell_type": "markdown",
   "metadata": {},
   "source": [
    "## 任务三、 图分类\n",
    "实现要求：基于现有模型框架(DGL, Pytorch_geometric)实现图分类任务\n",
    "\n",
    "\n",
    "使用TUDataset, ZINC数据集\n",
    "\n",
    "\n",
    "分析不同的池化方法对图分类性能的影响(AvgPooling, MaxPooling, MinPooling)\n",
    "\n",
    "\n",
    "测试GCN, GAT, GraphSAGE, GIN模型"
   ]
  },
  {
   "cell_type": "code",
   "execution_count": 15,
   "metadata": {},
   "outputs": [],
   "source": [
    "import torch\n",
    "import torch.nn.functional as F\n",
    "from torch_geometric.loader import DataLoader\n",
    "from torch_geometric.datasets import TUDataset, ZINC\n",
    "from torch_geometric.nn import GCNConv, GATConv, SAGEConv, GINConv, global_mean_pool, global_max_pool, global_add_pool\n",
    "from torch_geometric.nn import global_add_pool  \n",
    "from torch_scatter import scatter\n",
    "\n",
    "def global_min_pool(x, batch):\n",
    "    return scatter(x, batch, dim=0, reduce='min')\n",
    "# 加载数据集\n",
    "dataset = TUDataset(root='/dataset', name='ENZYMES')  \n",
    "#dataset = ZINC(root='/dataset/molecules')\n"
   ]
  },
  {
   "cell_type": "code",
   "execution_count": null,
   "metadata": {},
   "outputs": [],
   "source": [
    "class GCN(torch.nn.Module):\n",
    "    def __init__(self, num_features, num_classes, pooling):\n",
    "        super(GCN, self).__init__()\n",
    "        self.conv1 = GCNConv(num_features, 64)\n",
    "        self.conv2 = GCNConv(64, 128)\n",
    "        self.fc = torch.nn.Linear(128, num_classes)\n",
    "        self.pooling = pooling\n",
    "\n",
    "    def forward(self, x, edge_index, batch):\n",
    "        x = F.relu(self.conv1(x, edge_index))\n",
    "        x = F.relu(self.conv2(x, edge_index))\n",
    "        x = self.pooling(x, batch)\n",
    "        x = self.fc(x)\n",
    "        return F.log_softmax(x, dim=1)\n"
   ]
  },
  {
   "cell_type": "code",
   "execution_count": null,
   "metadata": {},
   "outputs": [],
   "source": [
    "class GAT(torch.nn.Module):\n",
    "    def __init__(self, num_features, num_classes):\n",
    "        super(GAT,self).__init__()\n",
    "        self.GAT1 = GATConv(num_features, 8, heads = 8, concat = True, dropout = 0.6)\n",
    "        self.GAT2 = GATConv(8*8, num_classes, dropout = 0.6)  \n",
    "        \n",
    "    def forward(self, data):\n",
    "        x, edge_index = data.x, data.edge_index\n",
    "        \n",
    "        x = self.GAT1(x, edge_index)\n",
    "        x = F.relu(x)\n",
    "        x = self.GAT2(x, edge_index)\n",
    "        \n",
    "        return F.log_softmax(x, dim=1)"
   ]
  },
  {
   "cell_type": "code",
   "execution_count": null,
   "metadata": {},
   "outputs": [],
   "source": [
    "\n",
    "class GraphSAGE(torch.nn.Module):\n",
    "\n",
    "    def __init__(self, num_features, hidden_dim, num_classes):\n",
    "        super(GraphSAGE, self).__init__()\n",
    "        self.sage1 = SAGEConv(num_features, hidden_dim)  # 定义两层GraphSAGE层\n",
    "        self.sage2 = SAGEConv(hidden_dim, num_classes)\n",
    "\n",
    "    def forward(self, data):\n",
    "        x, edge_index = data.x, data.edge_index\n",
    "\n",
    "        x = self.sage1(x, edge_index)\n",
    "        x = F.relu(x)\n",
    "        x = F.dropout(x, training=self.training)\n",
    "        x = self.sage2(x, edge_index)\n",
    "\n",
    "        return F.log_softmax(x, dim=1)"
   ]
  },
  {
   "cell_type": "code",
   "execution_count": null,
   "metadata": {},
   "outputs": [],
   "source": [
    "class GIN(torch.nn.Module):\n",
    "    def __init__(self, in_channels, out_channels):\n",
    "        super(GIN, self).__init__()\n",
    "        self.conv1 = GINConv(Sequential(Linear(in_channels, 64), ReLU(), Linear(64, 64)))\n",
    "        self.conv2 = GINConv(Sequential(Linear(64, 64), ReLU(), Linear(64, out_channels)))\n",
    "        self.dropout = torch.nn.Dropout(0.5)\n",
    "\n",
    "    def forward(self, data):\n",
    "        x, edge_index = data.x, data.edge_index\n",
    "        \n",
    "        x = F.relu(self.conv1(x, edge_index))\n",
    "        x = self.dropout(x)\n",
    "        x = self.conv2(x, edge_index)\n",
    "        \n",
    "        return F.log_softmax(x, dim=1)"
   ]
  },
  {
   "cell_type": "code",
   "execution_count": 16,
   "metadata": {},
   "outputs": [
    {
     "name": "stdout",
     "output_type": "stream",
     "text": [
      "Model: GCN, Pooling: AvgPooling, Accuracy: 0.3750\n",
      "Model: GCN, Pooling: MaxPooling, Accuracy: 0.4067\n",
      "Model: GCN, Pooling: AddPooling, Accuracy: 0.3150\n"
     ]
    }
   ],
   "source": [
    "# 训练\n",
    "def train(model, loader, optimizer, device):\n",
    "    model.train()\n",
    "    for data in loader:\n",
    "        data = data.to(device)\n",
    "        optimizer.zero_grad()\n",
    "        out = model(data.x, data.edge_index, data.batch)\n",
    "        loss = F.nll_loss(out, data.y)\n",
    "        loss.backward()\n",
    "        optimizer.step()\n",
    "\n",
    "# 测试\n",
    "def test(model, loader, device):\n",
    "    model.eval()\n",
    "    correct = 0\n",
    "    for data in loader:\n",
    "        data = data.to(device)\n",
    "        out = model(data.x, data.edge_index, data.batch)\n",
    "        pred = out.argmax(dim=1)\n",
    "        correct += pred.eq(data.y).sum().item()\n",
    "    return correct / len(loader.dataset)\n",
    "\n",
    "# 主程序\n",
    "device = torch.device('cuda' if torch.cuda.is_available() else 'cpu')\n",
    "\n",
    "# 池化方法\n",
    "pooling_methods = {\n",
    "    'AvgPooling': global_mean_pool,\n",
    "    'MaxPooling': global_max_pool,\n",
    "    'AddPooling': global_add_pool,\n",
    "}\n",
    "\n",
    "# 模型\n",
    "model_classes = {\n",
    "    'GCN': GCN,\n",
    "    'GAT': GAT,  \n",
    "    'GraphSAGE': GraphSAGE,  \n",
    "    'GIN': GIN,  \n",
    "}\n",
    "\n",
    "\n",
    "for pool_name, pool in pooling_methods.items():\n",
    "    for model_name, model_class in model_classes.items():\n",
    "        model = model_class(dataset.num_features, dataset.num_classes, pooling=pool).to(device)\n",
    "        optimizer = torch.optim.Adam(model.parameters(), lr=0.01)\n",
    "        \n",
    "        train_loader = DataLoader(dataset, batch_size=32, shuffle=True)\n",
    "        test_loader = DataLoader(dataset, batch_size=32, shuffle=False)\n",
    "        \n",
    "        # 训练模型\n",
    "        for epoch in range(1, 101):\n",
    "            train(model, train_loader, optimizer, device)\n",
    "        \n",
    "        # 测试模型\n",
    "        acc = test(model, test_loader, device)\n",
    "        print(f'Model: {model_name}, Pooling: {pool_name}, Accuracy: {acc:.4f}')\n"
   ]
  }
 ],
 "metadata": {
  "kernelspec": {
   "display_name": "base",
   "language": "python",
   "name": "python3"
  },
  "language_info": {
   "codemirror_mode": {
    "name": "ipython",
    "version": 3
   },
   "file_extension": ".py",
   "mimetype": "text/x-python",
   "name": "python",
   "nbconvert_exporter": "python",
   "pygments_lexer": "ipython3",
   "version": "3.9.7"
  }
 },
 "nbformat": 4,
 "nbformat_minor": 2
}
